{
  "nbformat": 4,
  "nbformat_minor": 0,
  "metadata": {
    "colab": {
      "name": "CNN from Scratch",
      "provenance": [],
      "include_colab_link": true
    },
    "kernelspec": {
      "name": "python3",
      "display_name": "Python 3"
    },
    "language_info": {
      "name": "python"
    }
  },
  "cells": [
    {
      "cell_type": "markdown",
      "metadata": {
        "id": "view-in-github",
        "colab_type": "text"
      },
      "source": [
        "<a href=\"https://colab.research.google.com/github/pawarashwin/Demo1/blob/main/CNN_from_Scratch.ipynb\" target=\"_parent\"><img src=\"https://colab.research.google.com/assets/colab-badge.svg\" alt=\"Open In Colab\"/></a>"
      ]
    },
    {
      "cell_type": "code",
      "execution_count": 2,
      "metadata": {
        "id": "XLFGOxybKUXn"
      },
      "outputs": [],
      "source": [
        "# Importing all necessary libraries\n",
        "from keras.preprocessing.image import ImageDataGenerator\n",
        "from keras.models import Sequential\n",
        "from keras.layers import Conv2D, MaxPooling2D\n",
        "from keras.layers import Activation, Dropout, Flatten, Dense\n",
        "from keras import backend as K\n",
        "\n",
        "img_width, img_height = 224, 224\n"
      ]
    },
    {
      "cell_type": "code",
      "source": [
        "train_data_dir = '/content/sample_data/train'\n",
        "validation_data_dir = '/content/sample_data/val'\n",
        "nb_train_samples =400\n",
        "nb_validation_samples = 100\n",
        "epochs = 5\n",
        "batch_size = 16\n"
      ],
      "metadata": {
        "id": "4crjcoiVKgXi"
      },
      "execution_count": 4,
      "outputs": []
    },
    {
      "cell_type": "code",
      "source": [
        "if K.image_data_format() == 'channels_first':\n",
        "  input_shape = (3, img_width, img_height)\n",
        "else:\n",
        "  input_shape = (img_width, img_height, 3)\n"
      ],
      "metadata": {
        "id": "_owi_LMKNc_i"
      },
      "execution_count": 5,
      "outputs": []
    },
    {
      "cell_type": "code",
      "source": [
        "model = Sequential()\n",
        "model.add(Conv2D(32, (3, 3), input_shape=input_shape))\n",
        "model.add(Activation('relu'))\n",
        "model.add(MaxPooling2D(pool_size=(3, 3)))\n",
        "\n",
        "model.add(Conv2D(32, (3, 3)))\n",
        "model.add(Activation('relu'))\n",
        "model.add(MaxPooling2D(pool_size=(3, 3)))\n",
        "\n",
        "model.add(Conv2D(64, (3, 3)))\n",
        "model.add(Activation('relu'))\n",
        "model.add(MaxPooling2D(pool_size=(3, 3)))\n",
        "\n",
        "model.add(Flatten())\n",
        "model.add(Dense(64))\n",
        "model.add(Activation('relu'))\n",
        "model.add(Dropout(0.5))\n",
        "model.add(Dense(1))\n",
        "model.add(Activation('sigmoid'))\n"
      ],
      "metadata": {
        "id": "FPh1TidVNhwo"
      },
      "execution_count": 11,
      "outputs": []
    },
    {
      "cell_type": "code",
      "source": [
        "model.summary()"
      ],
      "metadata": {
        "id": "596MYId3Nk2d",
        "colab": {
          "base_uri": "https://localhost:8080/"
        },
        "outputId": "d9becccb-bf67-4ce9-9c7f-68254bf722d2"
      },
      "execution_count": 12,
      "outputs": [
        {
          "output_type": "stream",
          "name": "stdout",
          "text": [
            "Model: \"sequential_3\"\n",
            "_________________________________________________________________\n",
            " Layer (type)                Output Shape              Param #   \n",
            "=================================================================\n",
            " conv2d_9 (Conv2D)           (None, 222, 222, 32)      896       \n",
            "                                                                 \n",
            " activation_15 (Activation)  (None, 222, 222, 32)      0         \n",
            "                                                                 \n",
            " max_pooling2d_9 (MaxPooling  (None, 74, 74, 32)       0         \n",
            " 2D)                                                             \n",
            "                                                                 \n",
            " conv2d_10 (Conv2D)          (None, 72, 72, 32)        9248      \n",
            "                                                                 \n",
            " activation_16 (Activation)  (None, 72, 72, 32)        0         \n",
            "                                                                 \n",
            " max_pooling2d_10 (MaxPoolin  (None, 24, 24, 32)       0         \n",
            " g2D)                                                            \n",
            "                                                                 \n",
            " conv2d_11 (Conv2D)          (None, 22, 22, 64)        18496     \n",
            "                                                                 \n",
            " activation_17 (Activation)  (None, 22, 22, 64)        0         \n",
            "                                                                 \n",
            " max_pooling2d_11 (MaxPoolin  (None, 7, 7, 64)         0         \n",
            " g2D)                                                            \n",
            "                                                                 \n",
            " flatten_3 (Flatten)         (None, 3136)              0         \n",
            "                                                                 \n",
            " dense_6 (Dense)             (None, 64)                200768    \n",
            "                                                                 \n",
            " activation_18 (Activation)  (None, 64)                0         \n",
            "                                                                 \n",
            " dropout_3 (Dropout)         (None, 64)                0         \n",
            "                                                                 \n",
            " dense_7 (Dense)             (None, 1)                 65        \n",
            "                                                                 \n",
            " activation_19 (Activation)  (None, 1)                 0         \n",
            "                                                                 \n",
            "=================================================================\n",
            "Total params: 229,473\n",
            "Trainable params: 229,473\n",
            "Non-trainable params: 0\n",
            "_________________________________________________________________\n"
          ]
        }
      ]
    },
    {
      "cell_type": "code",
      "source": [
        "model.compile(loss='binary_crossentropy',\n",
        "      optimizer='rmsprop',\n",
        "      metrics=['accuracy'])\n"
      ],
      "metadata": {
        "id": "wo8TCpnHNoO3"
      },
      "execution_count": 13,
      "outputs": []
    },
    {
      "cell_type": "code",
      "source": [
        "train_datagen = ImageDataGenerator(\n",
        "  rescale=1. / 255,\n",
        "  shear_range=0.2,\n",
        "  zoom_range=0.2,\n",
        "  horizontal_flip=True)\n",
        "\n",
        "test_datagen = ImageDataGenerator(rescale=1. / 255)\n",
        "\n",
        "train_generator = train_datagen.flow_from_directory(\n",
        "  train_data_dir,\n",
        "  target_size=(img_width, img_height),\n",
        "  batch_size=batch_size,\n",
        "  class_mode='binary')\n",
        "\n",
        "validation_generator = test_datagen.flow_from_directory(\n",
        "  validation_data_dir,\n",
        "  target_size=(img_width, img_height),\n",
        "  batch_size=batch_size,\n",
        "  class_mode='binary')\n",
        "\n",
        "model.fit_generator(\n",
        "  train_generator,\n",
        "  steps_per_epoch=nb_train_samples // batch_size,\n",
        "  epochs=epochs,\n",
        "  validation_data=validation_generator,\n",
        "  validation_steps=nb_validation_samples // batch_size)\n"
      ],
      "metadata": {
        "id": "FvY6mm-uNt9a",
        "outputId": "fc4f947d-3de8-425e-f905-3a95accaceac",
        "colab": {
          "base_uri": "https://localhost:8080/"
        }
      },
      "execution_count": 14,
      "outputs": [
        {
          "output_type": "stream",
          "name": "stdout",
          "text": [
            "Found 400 images belonging to 3 classes.\n",
            "Found 76 images belonging to 3 classes.\n"
          ]
        },
        {
          "output_type": "stream",
          "name": "stderr",
          "text": [
            "/usr/local/lib/python3.7/dist-packages/ipykernel_launcher.py:26: UserWarning: `Model.fit_generator` is deprecated and will be removed in a future version. Please use `Model.fit`, which supports generators.\n"
          ]
        },
        {
          "output_type": "stream",
          "name": "stdout",
          "text": [
            "Epoch 1/5\n",
            "25/25 [==============================] - ETA: 0s - loss: -13384.8672 - accuracy: 0.4850WARNING:tensorflow:Your input ran out of data; interrupting training. Make sure that your dataset or generator can generate at least `steps_per_epoch * epochs` batches (in this case, 6 batches). You may need to use the repeat() function when building your dataset.\n",
            "25/25 [==============================] - 22s 819ms/step - loss: -13384.8672 - accuracy: 0.4850 - val_loss: -68532.9141 - val_accuracy: 0.5000\n",
            "Epoch 2/5\n",
            "25/25 [==============================] - 19s 755ms/step - loss: -332527.4688 - accuracy: 0.5000\n",
            "Epoch 3/5\n",
            "25/25 [==============================] - 18s 699ms/step - loss: -1673075.5000 - accuracy: 0.5000\n",
            "Epoch 4/5\n",
            "25/25 [==============================] - 18s 718ms/step - loss: -5033120.5000 - accuracy: 0.5000\n",
            "Epoch 5/5\n",
            "25/25 [==============================] - 19s 769ms/step - loss: -12705504.0000 - accuracy: 0.5000\n"
          ]
        },
        {
          "output_type": "execute_result",
          "data": {
            "text/plain": [
              "<keras.callbacks.History at 0x7fd48775fe90>"
            ]
          },
          "metadata": {},
          "execution_count": 14
        }
      ]
    },
    {
      "cell_type": "code",
      "source": [
        ""
      ],
      "metadata": {
        "id": "c8PDmIzMbQRf"
      },
      "execution_count": null,
      "outputs": []
    },
    {
      "cell_type": "code",
      "source": [
        "model.save('model_saved.h5')\n"
      ],
      "metadata": {
        "id": "C1p5eCf3N3_E"
      },
      "execution_count": 19,
      "outputs": []
    },
    {
      "cell_type": "code",
      "source": [
        "import h5py\n",
        "\n",
        "print(h5py.__version__)"
      ],
      "metadata": {
        "id": "5lzZVTS6Pw7z",
        "outputId": "bbcb38f5-9293-4299-a0ed-a5277a59acf6",
        "colab": {
          "base_uri": "https://localhost:8080/"
        }
      },
      "execution_count": 20,
      "outputs": [
        {
          "output_type": "stream",
          "name": "stdout",
          "text": [
            "3.1.0\n"
          ]
        }
      ]
    },
    {
      "cell_type": "code",
      "source": [
        "from keras.models import load_model\n",
        "from keras.preprocessing.image import load_img\n",
        "from keras.preprocessing.image import img_to_array\n",
        "from keras.applications.vgg16 import preprocess_input\n",
        "from keras.applications.vgg16 import decode_predictions\n",
        "from keras.applications.vgg16 import VGG16\n",
        "import numpy as np\n",
        "from keras.models import load_model\n",
        "model = load_model('/content/model_saved.h5')\n",
        "image = load_img('/content/sample_data/test/planes/11.jpg', target_size=(224, 224))\n",
        "img = np.array(image)\n",
        "img = img / 255.0\n",
        "img = img.reshape(1,224,224,3)\n",
        "label = model.predict(img)\n",
        "print(\"Predicted Class (0 - Cars , 1- Planes): \", label[0][0])\n"
      ],
      "metadata": {
        "id": "tYtMsrqQORZP",
        "outputId": "05c10f87-ea06-41b9-b557-41d5b5301b99",
        "colab": {
          "base_uri": "https://localhost:8080/"
        }
      },
      "execution_count": 23,
      "outputs": [
        {
          "output_type": "stream",
          "name": "stdout",
          "text": [
            "Predicted Class (0 - Cars , 1- Planes):  1.0\n"
          ]
        }
      ]
    },
    {
      "cell_type": "code",
      "source": [
        ""
      ],
      "metadata": {
        "id": "3nRM7xkRO9ih"
      },
      "execution_count": null,
      "outputs": []
    }
  ]
}